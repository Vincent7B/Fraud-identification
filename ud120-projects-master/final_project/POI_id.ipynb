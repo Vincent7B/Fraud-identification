{
 "cells": [
  {
   "cell_type": "markdown",
   "metadata": {},
   "source": [
    "# Main code for the project \"Identify Fraud from Enron Mail\""
   ]
  },
  {
   "cell_type": "markdown",
   "metadata": {},
   "source": [
    "## Preparation"
   ]
  },
  {
   "cell_type": "code",
   "execution_count": 1,
   "metadata": {
    "collapsed": true
   },
   "outputs": [],
   "source": [
    "# Import needed libraries\n",
    "import sys\n",
    "import pickle\n",
    "sys.path.append('../tools/')\n",
    "\n",
    "import numpy as np\n",
    "import matplotlib.pyplot as plt\n",
    "import seaborn as sns\n",
    "%matplotlib inline\n",
    "import pprint"
   ]
  },
  {
   "cell_type": "code",
   "execution_count": 2,
   "metadata": {
    "collapsed": true
   },
   "outputs": [],
   "source": [
    "# Import feature_format and tester function. \n",
    "# They were modified so that to run with Python 3.7. Can be found in attachment.\n",
    "from feature_format import featureFormat, targetFeatureSplit\n",
    "from tester import dump_classifier_and_data"
   ]
  },
  {
   "cell_type": "markdown",
   "metadata": {},
   "source": [
    "## Step 1a: Overview of  the initial dataset"
   ]
  },
  {
   "cell_type": "code",
   "execution_count": 3,
   "metadata": {
    "collapsed": true
   },
   "outputs": [],
   "source": [
    "### Load the dictionary containing the dataset\n",
    "with open('final_project_dataset.pkl', 'rb') as data_file:\n",
    "    data_dict = pickle.load(data_file)"
   ]
  },
  {
   "cell_type": "code",
   "execution_count": 4,
   "metadata": {
    "collapsed": true
   },
   "outputs": [],
   "source": [
    "### Store to my_dataset for easy export below.\n",
    "my_dataset = data_dict"
   ]
  },
  {
   "cell_type": "code",
   "execution_count": 5,
   "metadata": {},
   "outputs": [
    {
     "data": {
      "text/plain": [
       "dict"
      ]
     },
     "execution_count": 5,
     "metadata": {},
     "output_type": "execute_result"
    }
   ],
   "source": [
    "# Format of the data?\n",
    "type(my_dataset)"
   ]
  },
  {
   "cell_type": "code",
   "execution_count": 6,
   "metadata": {},
   "outputs": [
    {
     "data": {
      "text/plain": [
       "146"
      ]
     },
     "execution_count": 6,
     "metadata": {},
     "output_type": "execute_result"
    }
   ],
   "source": [
    "# Nb of samples?\n",
    "len(my_dataset)"
   ]
  },
  {
   "cell_type": "markdown",
   "metadata": {},
   "source": [
    "There are 146 people (i.e. samples in the dataset). Let's have a look at one sample:"
   ]
  },
  {
   "cell_type": "code",
   "execution_count": 7,
   "metadata": {},
   "outputs": [
    {
     "data": {
      "text/plain": [
       "'METTS MARK'"
      ]
     },
     "execution_count": 7,
     "metadata": {},
     "output_type": "execute_result"
    }
   ],
   "source": [
    "# Get the value of 1 key of the dictionary\n",
    "next(iter(my_dataset.keys()))"
   ]
  },
  {
   "cell_type": "code",
   "execution_count": 8,
   "metadata": {},
   "outputs": [
    {
     "data": {
      "text/plain": [
       "{'bonus': 600000,\n",
       " 'deferral_payments': 'NaN',\n",
       " 'deferred_income': 'NaN',\n",
       " 'director_fees': 'NaN',\n",
       " 'email_address': 'mark.metts@enron.com',\n",
       " 'exercised_stock_options': 'NaN',\n",
       " 'expenses': 94299,\n",
       " 'from_messages': 29,\n",
       " 'from_poi_to_this_person': 38,\n",
       " 'from_this_person_to_poi': 1,\n",
       " 'loan_advances': 'NaN',\n",
       " 'long_term_incentive': 'NaN',\n",
       " 'other': 1740,\n",
       " 'poi': False,\n",
       " 'restricted_stock': 585062,\n",
       " 'restricted_stock_deferred': 'NaN',\n",
       " 'salary': 365788,\n",
       " 'shared_receipt_with_poi': 702,\n",
       " 'to_messages': 807,\n",
       " 'total_payments': 1061827,\n",
       " 'total_stock_value': 585062}"
      ]
     },
     "execution_count": 8,
     "metadata": {},
     "output_type": "execute_result"
    }
   ],
   "source": [
    "# Get the value associated to this key\n",
    "next(iter(my_dataset.values()))"
   ]
  },
  {
   "cell_type": "code",
   "execution_count": 9,
   "metadata": {},
   "outputs": [
    {
     "data": {
      "text/plain": [
       "21"
      ]
     },
     "execution_count": 9,
     "metadata": {},
     "output_type": "execute_result"
    }
   ],
   "source": [
    "# The features of each samples are stored in a dictionary.\n",
    "# Nb of features?\n",
    "len(next(iter(my_dataset.values())))"
   ]
  },
  {
   "cell_type": "markdown",
   "metadata": {},
   "source": [
    "We can check that, as stated in the project details page, each sample has:\n",
    "- 1 label (poi)\n",
    "- 14 financial features\n",
    "- 6 email features"
   ]
  },
  {
   "cell_type": "code",
   "execution_count": 10,
   "metadata": {
    "collapsed": true
   },
   "outputs": [],
   "source": [
    "# How many POI in the dataset?\n",
    "nb_NaN = 0\n",
    "nb_POI = 0\n",
    "nb_non_POI = 0\n",
    "\n",
    "for k in my_dataset.keys():\n",
    "    if my_dataset[k]['poi'] == 'NaN':\n",
    "        nb_NaN +=1\n",
    "    elif my_dataset[k]['poi']:\n",
    "        nb_POI +=1\n",
    "    elif not my_dataset[k]['poi']:\n",
    "        nb_non_POI +=1"
   ]
  },
  {
   "cell_type": "code",
   "execution_count": 11,
   "metadata": {},
   "outputs": [
    {
     "name": "stdout",
     "output_type": "stream",
     "text": [
      "Status on samples labels. NaN: 0 , POI: 18  , Not POI: 128\n"
     ]
    }
   ],
   "source": [
    "print('Status on samples labels. NaN: {} , POI: {}  , Not POI: {}'.format(nb_NaN,nb_POI,nb_non_POI))"
   ]
  },
  {
   "cell_type": "markdown",
   "metadata": {},
   "source": [
    "Good piece of news is that we have the POI label for all the datapoint. \n",
    "Bad piece of news is taht the classes are strongly imbalanced. This will make us use a stratified shuffling method while validating the classifiers we propose. "
   ]
  },
  {
   "cell_type": "markdown",
   "metadata": {},
   "source": [
    "## Step 1b: Further exploration of the features\n",
    "\n",
    "To go further with the exploration of the available features (missing values, outliers...) we create to visualize them:"
   ]
  },
  {
   "cell_type": "code",
   "execution_count": 12,
   "metadata": {
    "collapsed": true
   },
   "outputs": [],
   "source": [
    "def feature_explore (dataset_dict,feature,unit):\n",
    "    '''Function that take the dataset dictionary, one of its numerical features, and its unit as inputs\n",
    "    and returns the following, for the POI and non POI sub-groups:\n",
    "    - count of NaN\n",
    "    - min value\n",
    "    - max value\n",
    "    - mean value\n",
    "    The box plot and histogram are also plotted for the whole data (POI and non POI together)'''\n",
    "    # initialize list of values, when existing\n",
    "    val = []\n",
    "    # initialize assiated list POI (True --> 1; False --> 0)\n",
    "    val_POI = []\n",
    "    # initialize count of NaN, for POI and non POI\n",
    "    NaN_POI_nb = 0\n",
    "    NaN_nonPOI_nb = 0 \n",
    "    \n",
    "    for k in my_dataset.keys():\n",
    "        if my_dataset[k][feature] == 'NaN':\n",
    "            if my_dataset[k]['poi'] == True:\n",
    "                NaN_POI_nb += 1\n",
    "            else:\n",
    "                NaN_nonPOI_nb += 1\n",
    "        else:\n",
    "            val.append(int(my_dataset[k][feature]))\n",
    "            if my_dataset[k]['poi'] == True:\n",
    "                val_POI.append(1)\n",
    "            else:\n",
    "                val_POI.append(0)\n",
    "    \n",
    "    # Convert to numpy arrays for later calculations\n",
    "    val = np.array(val)\n",
    "    val_POI = np.array(val_POI)\n",
    "    \n",
    "    # Compute and display count of NaN, min, max, mean for POI and non POI\n",
    "    print('Feature: {} ({})'.format(feature,unit))\n",
    "    print('Count of NaN - POI: {:d} \\t\\t non-POI: {:d}'.format(NaN_POI_nb,NaN_nonPOI_nb))\n",
    "    print('Min value    - POI: {:d} \\t non-POI: {:d}'.format(min(val[val_POI==1]),min(val[val_POI==0])))\n",
    "    print('Max value    - POI: {:d} \\t non-POI: {:d}'.format(max(val[val_POI==1]),max(val[val_POI==0])))\n",
    "    print('Mean value   - POI: {:.0f} \\t non-POI: {:.0f}'.format(np.mean(val[val_POI==1]),np.mean(val[val_POI==0])))\n",
    "    \n",
    "    # Box plot and histogram\n",
    "    green_diamond = dict(markerfacecolor='g', marker='D')\n",
    "    plt.figure(figsize=(10,5))            \n",
    "    ax1 = plt.subplot(121)\n",
    "    ax1.boxplot([val[val_POI==1],val[val_POI==0]], flierprops=green_diamond)\n",
    "    plt.xticks([1, 2], ['POI','non POI'])\n",
    "    plt.ylabel(feature+' '+unit)\n",
    "    \n",
    "    ax2 = plt.subplot(122)\n",
    "    ax2.hist([val[val_POI==1],val[val_POI==0]],alpha=0.8,bins=25)\n",
    "    plt.xlabel(feature+' '+unit)\n",
    "    plt.ylabel('count')\n",
    "    plt.legend(['POI','non POI'])\n",
    "    "
   ]
  },
  {
   "cell_type": "markdown",
   "metadata": {},
   "source": [
    "Now we use this function on the financial features, beginning with the salary:"
   ]
  },
  {
   "cell_type": "code",
   "execution_count": 13,
   "metadata": {},
   "outputs": [
    {
     "name": "stdout",
     "output_type": "stream",
     "text": [
      "Feature: salary ($)\n",
      "Count of NaN - POI: 1 \t\t non-POI: 50\n",
      "Min value    - POI: 158403 \t non-POI: 477\n",
      "Max value    - POI: 1111258 \t non-POI: 26704229\n",
      "Mean value   - POI: 383445 \t non-POI: 601152\n"
     ]
    },
    {
     "data": {
      "image/png": "[encoded data removed]",
      "text/plain": [
       "<matplotlib.figure.Figure at 0xb3a9be0>"
      ]
     },
     "metadata": {},
     "output_type": "display_data"
    }
   ],
   "source": [
    "feature_explore (my_dataset,'salary','$')"
   ]
  },
  {
   "cell_type": "markdown",
   "metadata": {},
   "source": [
    "There is an obvious outlier, which correspond to the salary of a non POI. To be able to find the name of outliers, we create another simple function:"
   ]
  },
  {
   "cell_type": "code",
   "execution_count": 14,
   "metadata": {
    "collapsed": true
   },
   "outputs": [],
   "source": [
    "def display_records(dataset_dict,feature,threshold,above = True):\n",
    "    '''Function that take the dataset dictionary, one of its numerical features, and a threshold as inputs\n",
    "    and returns the samples (people records) whose feature is above (above = True) or below (above = False) the \n",
    "    given threshold'''\n",
    "    if above:\n",
    "        for k in my_dataset.keys():\n",
    "            if my_dataset[k][feature] != 'NaN' and int(my_dataset[k][feature]) >= threshold:\n",
    "                print(k)\n",
    "                pprint.pprint(my_dataset[k])\n",
    "                print('')\n",
    "    else:\n",
    "        for k in my_dataset.keys():\n",
    "            if my_dataset[k][feature] != 'NaN' and int(my_dataset[k][feature]) <= threshold:\n",
    "                print(k)\n",
    "                pprint.pprint(my_dataset[k])\n",
    "                print('')"
   ]
  },
  {
   "cell_type": "markdown",
   "metadata": {},
   "source": [
    "We use this function to find the non POI salary outlier: "
   ]
  },
  {
   "cell_type": "code",
   "execution_count": 15,
   "metadata": {},
   "outputs": [
    {
     "name": "stdout",
     "output_type": "stream",
     "text": [
      "TOTAL\n",
      "{'bonus': 97343619,\n",
      " 'deferral_payments': 32083396,\n",
      " 'deferred_income': -27992891,\n",
      " 'director_fees': 1398517,\n",
      " 'email_address': 'NaN',\n",
      " 'exercised_stock_options': 311764000,\n",
      " 'expenses': 5235198,\n",
      " 'from_messages': 'NaN',\n",
      " 'from_poi_to_this_person': 'NaN',\n",
      " 'from_this_person_to_poi': 'NaN',\n",
      " 'loan_advances': 83925000,\n",
      " 'long_term_incentive': 48521928,\n",
      " 'other': 42667589,\n",
      " 'poi': False,\n",
      " 'restricted_stock': 130322299,\n",
      " 'restricted_stock_deferred': -7576788,\n",
      " 'salary': 26704229,\n",
      " 'shared_receipt_with_poi': 'NaN',\n",
      " 'to_messages': 'NaN',\n",
      " 'total_payments': 309886585,\n",
      " 'total_stock_value': 434509511}\n",
      "\n"
     ]
    }
   ],
   "source": [
    "display_records(my_dataset,'salary',2.5e7)"
   ]
  },
  {
   "cell_type": "markdown",
   "metadata": {},
   "source": [
    "We find that the identified outlier is not a person but a sample that contains the total for the financial features. We pop it from the dictionary and repeat the process."
   ]
  },
  {
   "cell_type": "code",
   "execution_count": 16,
   "metadata": {},
   "outputs": [
    {
     "name": "stdout",
     "output_type": "stream",
     "text": [
      "146\n",
      "145\n"
     ]
    }
   ],
   "source": [
    "print(len(my_dataset))\n",
    "my_dataset.pop('TOTAL')\n",
    "print(len(my_dataset))"
   ]
  },
  {
   "cell_type": "markdown",
   "metadata": {},
   "source": [
    "### \"Promising\" financial features"
   ]
  },
  {
   "cell_type": "code",
   "execution_count": 17,
   "metadata": {},
   "outputs": [
    {
     "name": "stdout",
     "output_type": "stream",
     "text": [
      "Feature: salary ($)\n",
      "Count of NaN - POI: 1 \t\t non-POI: 50\n",
      "Min value    - POI: 158403 \t non-POI: 477\n",
      "Max value    - POI: 1111258 \t non-POI: 1060932\n",
      "Mean value   - POI: 383445 \t non-POI: 262152\n"
     ]
    },
    {
     "data": {
      "image/png": "[encoded data removed]",
      "text/plain": [
       "<matplotlib.figure.Figure at 0xca85748>"
      ]
     },
     "metadata": {},
     "output_type": "display_data"
    }
   ],
   "source": [
    "feature_explore (my_dataset,'salary','$')"
   ]
  },
  {
   "cell_type": "markdown",
   "metadata": {},
   "source": [
    "Several interesting points:\n",
    "- one third of the salary data is missing, but at least we have it for all the POI except 1\n",
    "- the median salary of the POI sugroup is higher than that of the non POI subgroup. Intersting feature for our classifier!\n",
    "- 3 clear outliers: 2 POI and 1 non POI\n",
    "- the 'shape' of the salary distribution seems to be quite similar for POI and non POI \n",
    "\n",
    "Let's have a look at the 3 clear outliers mentioned above:"
   ]
  },
  {
   "cell_type": "code",
   "execution_count": 18,
   "metadata": {},
   "outputs": [
    {
     "name": "stdout",
     "output_type": "stream",
     "text": [
      "LAY KENNETH L\n",
      "{'bonus': 7000000,\n",
      " 'deferral_payments': 202911,\n",
      " 'deferred_income': -300000,\n",
      " 'director_fees': 'NaN',\n",
      " 'email_address': 'kenneth.lay@enron.com',\n",
      " 'exercised_stock_options': 34348384,\n",
      " 'expenses': 99832,\n",
      " 'from_messages': 36,\n",
      " 'from_poi_to_this_person': 123,\n",
      " 'from_this_person_to_poi': 16,\n",
      " 'loan_advances': 81525000,\n",
      " 'long_term_incentive': 3600000,\n",
      " 'other': 10359729,\n",
      " 'poi': True,\n",
      " 'restricted_stock': 14761694,\n",
      " 'restricted_stock_deferred': 'NaN',\n",
      " 'salary': 1072321,\n",
      " 'shared_receipt_with_poi': 2411,\n",
      " 'to_messages': 4273,\n",
      " 'total_payments': 103559793,\n",
      " 'total_stock_value': 49110078}\n",
      "\n",
      "SKILLING JEFFREY K\n",
      "{'bonus': 5600000,\n",
      " 'deferral_payments': 'NaN',\n",
      " 'deferred_income': 'NaN',\n",
      " 'director_fees': 'NaN',\n",
      " 'email_address': 'jeff.skilling@enron.com',\n",
      " 'exercised_stock_options': 19250000,\n",
      " 'expenses': 29336,\n",
      " 'from_messages': 108,\n",
      " 'from_poi_to_this_person': 88,\n",
      " 'from_this_person_to_poi': 30,\n",
      " 'loan_advances': 'NaN',\n",
      " 'long_term_incentive': 1920000,\n",
      " 'other': 22122,\n",
      " 'poi': True,\n",
      " 'restricted_stock': 6843672,\n",
      " 'restricted_stock_deferred': 'NaN',\n",
      " 'salary': 1111258,\n",
      " 'shared_receipt_with_poi': 2042,\n",
      " 'to_messages': 3627,\n",
      " 'total_payments': 8682716,\n",
      " 'total_stock_value': 26093672}\n",
      "\n",
      "FREVERT MARK A\n",
      "{'bonus': 2000000,\n",
      " 'deferral_payments': 6426990,\n",
      " 'deferred_income': -3367011,\n",
      " 'director_fees': 'NaN',\n",
      " 'email_address': 'mark.frevert@enron.com',\n",
      " 'exercised_stock_options': 10433518,\n",
      " 'expenses': 86987,\n",
      " 'from_messages': 21,\n",
      " 'from_poi_to_this_person': 242,\n",
      " 'from_this_person_to_poi': 6,\n",
      " 'loan_advances': 2000000,\n",
      " 'long_term_incentive': 1617011,\n",
      " 'other': 7427621,\n",
      " 'poi': False,\n",
      " 'restricted_stock': 4188667,\n",
      " 'restricted_stock_deferred': 'NaN',\n",
      " 'salary': 1060932,\n",
      " 'shared_receipt_with_poi': 2979,\n",
      " 'to_messages': 3275,\n",
      " 'total_payments': 17252530,\n",
      " 'total_stock_value': 14622185}\n",
      "\n"
     ]
    }
   ],
   "source": [
    "display_records(my_dataset,'salary',1e6)"
   ]
  },
  {
   "cell_type": "markdown",
   "metadata": {},
   "source": [
    "The 2 POIs are Kenneth Lay and Jeffrey Skilling, respectively Chairman of the Board of Directors and COO of Enron when the scandal occured.\n",
    "The non POI is Mark Frevert, Enron vice chairman.\n",
    "\n",
    "Now let's look at the other financial features:"
   ]
  },
  {
   "cell_type": "code",
   "execution_count": 19,
   "metadata": {},
   "outputs": [
    {
     "name": "stdout",
     "output_type": "stream",
     "text": [
      "Feature: bonus ($)\n",
      "Count of NaN - POI: 2 \t\t non-POI: 62\n",
      "Min value    - POI: 200000 \t non-POI: 70000\n",
      "Max value    - POI: 7000000 \t non-POI: 8000000\n",
      "Mean value   - POI: 2075000 \t non-POI: 986825\n"
     ]
    },
    {
     "data": {
      "image/png": "[encoded data removed]",
      "text/plain": [
       "<matplotlib.figure.Figure at 0xca05278>"
      ]
     },
     "metadata": {},
     "output_type": "display_data"
    }
   ],
   "source": [
    "feature_explore (my_dataset,'bonus','$')"
   ]
  },
  {
   "cell_type": "code",
   "execution_count": 20,
   "metadata": {},
   "outputs": [
    {
     "name": "stdout",
     "output_type": "stream",
     "text": [
      "Feature: restricted_stock ($)\n",
      "Count of NaN - POI: 1 \t\t non-POI: 35\n",
      "Min value    - POI: 126027 \t non-POI: -2604490\n",
      "Max value    - POI: 14761694 \t non-POI: 13847074\n",
      "Mean value   - POI: 2318621 \t non-POI: 931007\n"
     ]
    },
    {
     "data": {
      "image/png": "[encoded data removed]",
      "text/plain": [
       "<matplotlib.figure.Figure at 0xcd36048>"
      ]
     },
     "metadata": {},
     "output_type": "display_data"
    }
   ],
   "source": [
    "feature_explore (my_dataset,'restricted_stock','$')"
   ]
  },
  {
   "cell_type": "code",
   "execution_count": 21,
   "metadata": {},
   "outputs": [
    {
     "name": "stdout",
     "output_type": "stream",
     "text": [
      "Feature: exercised_stock_options ($)\n",
      "Count of NaN - POI: 6 \t\t non-POI: 38\n",
      "Min value    - POI: 384728 \t non-POI: 3285\n",
      "Max value    - POI: 34348384 \t non-POI: 15364167\n",
      "Mean value   - POI: 10463794 \t non-POI: 1947752\n"
     ]
    },
    {
     "data": {
      "image/png": "[encoded data removed]",
      "text/plain": [
       "<matplotlib.figure.Figure at 0xce3cd30>"
      ]
     },
     "metadata": {},
     "output_type": "display_data"
    }
   ],
   "source": [
    "feature_explore (my_dataset,'exercised_stock_options','$')"
   ]
  },
  {
   "cell_type": "code",
   "execution_count": 22,
   "metadata": {},
   "outputs": [
    {
     "name": "stdout",
     "output_type": "stream",
     "text": [
      "Feature: long_term_incentive ($)\n",
      "Count of NaN - POI: 6 \t\t non-POI: 74\n",
      "Min value    - POI: 71023 \t non-POI: 69223\n",
      "Max value    - POI: 3600000 \t non-POI: 5145434\n",
      "Mean value   - POI: 1204862 \t non-POI: 642709\n"
     ]
    },
    {
     "data": {
      "image/png": "[encoded data removed]",
      "text/plain": [
       "<matplotlib.figure.Figure at 0xcf96208>"
      ]
     },
     "metadata": {},
     "output_type": "display_data"
    }
   ],
   "source": [
    "feature_explore (my_dataset,'long_term_incentive','$')"
   ]
  },
  {
   "cell_type": "markdown",
   "metadata": {},
   "source": [
    "The 'salary', 'bonus', 'restricted stock', 'exercised_stock_options' and 'long_term_incentive' features do not have too many missing values, and they seem to be able to help distinguish between POIs and non-POIs."
   ]
  },
  {
   "cell_type": "markdown",
   "metadata": {},
   "source": [
    "### 'expenses' and 'other'"
   ]
  },
  {
   "cell_type": "code",
   "execution_count": 23,
   "metadata": {},
   "outputs": [
    {
     "name": "stdout",
     "output_type": "stream",
     "text": [
      "Feature: expenses ($)\n",
      "Count of NaN - POI: 0 \t\t non-POI: 51\n",
      "Min value    - POI: 16514 \t non-POI: 148\n",
      "Max value    - POI: 127017 \t non-POI: 228763\n",
      "Mean value   - POI: 59874 \t non-POI: 52846\n"
     ]
    },
    {
     "data": {
      "image/png": "[encoded data removed]",
      "text/plain": [
       "<matplotlib.figure.Figure at 0xc8e8c50>"
      ]
     },
     "metadata": {},
     "output_type": "display_data"
    }
   ],
   "source": [
    "feature_explore (my_dataset,'expenses','$')"
   ]
  },
  {
   "cell_type": "code",
   "execution_count": 24,
   "metadata": {},
   "outputs": [
    {
     "name": "stdout",
     "output_type": "stream",
     "text": [
      "Feature: other ($)\n",
      "Count of NaN - POI: 0 \t\t non-POI: 53\n",
      "Min value    - POI: 486 \t non-POI: 2\n",
      "Max value    - POI: 10359729 \t non-POI: 7427621\n",
      "Mean value   - POI: 802997 \t non-POI: 383128\n"
     ]
    },
    {
     "data": {
      "image/png": "[encoded data removed]",
      "text/plain": [
       "<matplotlib.figure.Figure at 0xc981860>"
      ]
     },
     "metadata": {},
     "output_type": "display_data"
    }
   ],
   "source": [
    "feature_explore (my_dataset,'other','$')"
   ]
  },
  {
   "cell_type": "markdown",
   "metadata": {},
   "source": [
    "For the 'other' feature, the 2 main outliers are again Kenneth Lay (POI) and Mark Frevert (non POI).\n",
    "\n",
    "The 'expenses' and 'other' financial features do not seem to bring any useful information to distinguish between POIs and non POIs."
   ]
  },
  {
   "cell_type": "markdown",
   "metadata": {},
   "source": [
    "### Features with many missing values"
   ]
  },
  {
   "cell_type": "code",
   "execution_count": 25,
   "metadata": {},
   "outputs": [
    {
     "name": "stdout",
     "output_type": "stream",
     "text": [
      "Feature: deferred_income ($)\n",
      "Count of NaN - POI: 7 \t\t non-POI: 90\n",
      "Min value    - POI: -3504386 \t non-POI: -3367011\n",
      "Max value    - POI: -833 \t non-POI: -1042\n",
      "Mean value   - POI: -1035313 \t non-POI: -445998\n"
     ]
    },
    {
     "data": {
      "image/png": "[encoded data removed]",
      "text/plain": [
       "<matplotlib.figure.Figure at 0xc9d2048>"
      ]
     },
     "metadata": {},
     "output_type": "display_data"
    }
   ],
   "source": [
    "feature_explore (my_dataset,'deferred_income','$')"
   ]
  },
  {
   "cell_type": "markdown",
   "metadata": {},
   "source": [
    "Too many missing data, in particular for the POIs."
   ]
  },
  {
   "cell_type": "code",
   "execution_count": 26,
   "metadata": {},
   "outputs": [
    {
     "name": "stdout",
     "output_type": "stream",
     "text": [
      "Feature: deferral_payments ($)\n",
      "Count of NaN - POI: 13 \t\t non-POI: 94\n",
      "Min value    - POI: 10259 \t non-POI: -102500\n",
      "Max value    - POI: 2144013 \t non-POI: 6426990\n",
      "Mean value   - POI: 519894 \t non-POI: 890346\n"
     ]
    },
    {
     "data": {
      "image/png": "[encoded data removed]",
      "text/plain": [
       "<matplotlib.figure.Figure at 0xd06d438>"
      ]
     },
     "metadata": {},
     "output_type": "display_data"
    }
   ],
   "source": [
    "feature_explore (my_dataset,'deferral_payments','$')"
   ]
  },
  {
   "cell_type": "markdown",
   "metadata": {},
   "source": [
    "Same comment for 'deferral_payments'..."
   ]
  },
  {
   "cell_type": "code",
   "execution_count": 27,
   "metadata": {},
   "outputs": [
    {
     "name": "stdout",
     "output_type": "stream",
     "text": [
      "Feature: loan_advances ($)\n",
      "Count of NaN - POI: 17 \t\t non-POI: 125\n",
      "Min value    - POI: 81525000 \t non-POI: 400000\n",
      "Max value    - POI: 81525000 \t non-POI: 2000000\n",
      "Mean value   - POI: 81525000 \t non-POI: 1200000\n"
     ]
    },
    {
     "data": {
      "image/png": "[encoded data removed]",
      "text/plain": [
       "<matplotlib.figure.Figure at 0xc9b0c50>"
      ]
     },
     "metadata": {},
     "output_type": "display_data"
    }
   ],
   "source": [
    "feature_explore (my_dataset,'loan_advances','$')"
   ]
  },
  {
   "cell_type": "markdown",
   "metadata": {},
   "source": [
    "Only 1 POI has a value for 'loan_advances': we cannot generalize with this feature."
   ]
  },
  {
   "cell_type": "code",
   "execution_count": 28,
   "metadata": {
    "collapsed": true
   },
   "outputs": [],
   "source": [
    "# feature_explore (my_dataset,'director_fees','$')"
   ]
  },
  {
   "cell_type": "code",
   "execution_count": 29,
   "metadata": {
    "collapsed": true
   },
   "outputs": [],
   "source": [
    "# feature_explore (my_dataset,'restricted_stock_deferred','$')"
   ]
  },
  {
   "cell_type": "markdown",
   "metadata": {},
   "source": [
    "The feature_explore function gives a ValueError with the 'director_fees' and 'restricted_stock_deferred' financial features because we have no value for theses feature for all the POIs ! They will definitely not be useful for our classifier."
   ]
  },
  {
   "cell_type": "markdown",
   "metadata": {},
   "source": [
    "Too few data (notably for the POIs) for the following financial features: loan_advances, director_fees, deferral_payments, deferred_income, restricted_stock_deferred ."
   ]
  },
  {
   "cell_type": "markdown",
   "metadata": {},
   "source": [
    "### 'Total' financial features"
   ]
  },
  {
   "cell_type": "code",
   "execution_count": 30,
   "metadata": {},
   "outputs": [
    {
     "name": "stdout",
     "output_type": "stream",
     "text": [
      "Feature: total_payments ($)\n",
      "Count of NaN - POI: 0 \t\t non-POI: 21\n",
      "Min value    - POI: 91093 \t non-POI: 148\n",
      "Max value    - POI: 103559793 \t non-POI: 17252530\n",
      "Mean value   - POI: 7913590 \t non-POI: 1725091\n"
     ]
    },
    {
     "data": {
      "image/png": "[encoded data removed]",
      "text/plain": [
       "<matplotlib.figure.Figure at 0xcff4780>"
      ]
     },
     "metadata": {},
     "output_type": "display_data"
    }
   ],
   "source": [
    "feature_explore (my_dataset,'total_payments','$')"
   ]
  },
  {
   "cell_type": "markdown",
   "metadata": {},
   "source": [
    "There is a very clear outlier, from the POI subgroup: Kenneth Ley. "
   ]
  },
  {
   "cell_type": "code",
   "execution_count": 31,
   "metadata": {},
   "outputs": [
    {
     "name": "stdout",
     "output_type": "stream",
     "text": [
      "Feature: total_stock_value ($)\n",
      "Count of NaN - POI: 0 \t\t non-POI: 20\n",
      "Min value    - POI: 126027 \t non-POI: -44093\n",
      "Max value    - POI: 49110078 \t non-POI: 23817930\n",
      "Mean value   - POI: 9165671 \t non-POI: 2374085\n"
     ]
    },
    {
     "data": {
      "image/png": "[encoded data removed]",
      "text/plain": [
       "<matplotlib.figure.Figure at 0xcf11f98>"
      ]
     },
     "metadata": {},
     "output_type": "display_data"
    }
   ],
   "source": [
    "feature_explore (my_dataset,'total_stock_value','$')"
   ]
  },
  {
   "cell_type": "markdown",
   "metadata": {},
   "source": [
    "For the financial features, **we will test 2 strategies**:\n",
    "- **strategy A**: we keep only the 2 overall features, i.e. 'total_payments' and 'total_stock_value'. By summing the different financial features, we ensure that we have a value for a maximum number of people.\n",
    "- **strategy B**: we disregard:\n",
    "    - the 'total' features, because by summing different kinds of financial quantities we believe they might 'dilute' the information we need to distinguish between POIs and non POIs.\n",
    "    - the features for which there were too many missing values: 'loan_advances', 'director_fees', 'deferral_payments', 'deferred_income', 'restricted_stock_deferred'\n",
    "    - the features for which we saw that there was not a significant difference between POIs and non-POIs: 'other',  'expenses'\n",
    "\n",
    "Whatever the strategy, **we decide to keep the outliers** of the selected features. Indeed, we saw that there were at least two very emblematic POIs, Kenneth Lay and Jeffrey Skilling, who presented outliers for one or several financial features. Given the limited number of POIs in the dataset, we don't want to further reduce their proportion in the data that will be used to train the algorithm. "
   ]
  },
  {
   "cell_type": "markdown",
   "metadata": {},
   "source": [
    "### Email features"
   ]
  },
  {
   "cell_type": "code",
   "execution_count": 32,
   "metadata": {},
   "outputs": [
    {
     "name": "stdout",
     "output_type": "stream",
     "text": [
      "Feature: from_messages ()\n",
      "Count of NaN - POI: 4 \t\t non-POI: 55\n",
      "Min value    - POI: 16 \t non-POI: 12\n",
      "Max value    - POI: 3069 \t non-POI: 14368\n",
      "Mean value   - POI: 300 \t non-POI: 669\n"
     ]
    },
    {
     "data": {
      "image/png": "[encoded data removed]",
      "text/plain": [
       "<matplotlib.figure.Figure at 0xc496f98>"
      ]
     },
     "metadata": {},
     "output_type": "display_data"
    }
   ],
   "source": [
    "feature_explore (my_dataset,'from_messages','')"
   ]
  },
  {
   "cell_type": "code",
   "execution_count": 33,
   "metadata": {},
   "outputs": [
    {
     "name": "stdout",
     "output_type": "stream",
     "text": [
      "Feature: to_messages ()\n",
      "Count of NaN - POI: 4 \t\t non-POI: 55\n",
      "Min value    - POI: 225 \t non-POI: 57\n",
      "Max value    - POI: 7991 \t non-POI: 15149\n",
      "Mean value   - POI: 2417 \t non-POI: 2007\n"
     ]
    },
    {
     "data": {
      "image/png": "[encoded data removed]",
      "text/plain": [
       "<matplotlib.figure.Figure at 0xd040208>"
      ]
     },
     "metadata": {},
     "output_type": "display_data"
    }
   ],
   "source": [
    "feature_explore (my_dataset,'to_messages','')"
   ]
  },
  {
   "cell_type": "code",
   "execution_count": 34,
   "metadata": {},
   "outputs": [
    {
     "name": "stdout",
     "output_type": "stream",
     "text": [
      "Feature: from_this_person_to_poi ()\n",
      "Count of NaN - POI: 4 \t\t non-POI: 55\n",
      "Min value    - POI: 4 \t non-POI: 0\n",
      "Max value    - POI: 609 \t non-POI: 411\n",
      "Mean value   - POI: 67 \t non-POI: 36\n"
     ]
    },
    {
     "data": {
      "image/png": "[encoded data removed]",
      "text/plain": [
       "<matplotlib.figure.Figure at 0xd0407f0>"
      ]
     },
     "metadata": {},
     "output_type": "display_data"
    }
   ],
   "source": [
    "feature_explore (my_dataset,'from_this_person_to_poi','')"
   ]
  },
  {
   "cell_type": "code",
   "execution_count": 35,
   "metadata": {},
   "outputs": [
    {
     "name": "stdout",
     "output_type": "stream",
     "text": [
      "Feature: from_poi_to_this_person ()\n",
      "Count of NaN - POI: 4 \t\t non-POI: 55\n",
      "Min value    - POI: 13 \t non-POI: 0\n",
      "Max value    - POI: 240 \t non-POI: 528\n",
      "Mean value   - POI: 98 \t non-POI: 58\n"
     ]
    },
    {
     "data": {
      "image/png": "[encoded data removed]",
      "text/plain": [
       "<matplotlib.figure.Figure at 0xd17ddd8>"
      ]
     },
     "metadata": {},
     "output_type": "display_data"
    }
   ],
   "source": [
    "feature_explore (my_dataset,'from_poi_to_this_person','')"
   ]
  },
  {
   "cell_type": "code",
   "execution_count": 36,
   "metadata": {},
   "outputs": [
    {
     "name": "stdout",
     "output_type": "stream",
     "text": [
      "Feature: shared_receipt_with_poi ()\n",
      "Count of NaN - POI: 4 \t\t non-POI: 55\n",
      "Min value    - POI: 91 \t non-POI: 2\n",
      "Max value    - POI: 5521 \t non-POI: 4527\n",
      "Mean value   - POI: 1783 \t non-POI: 1059\n"
     ]
    },
    {
     "data": {
      "image/png": "[encoded data removed]",
      "text/plain": [
       "<matplotlib.figure.Figure at 0xcf2f5c0>"
      ]
     },
     "metadata": {},
     "output_type": "display_data"
    }
   ],
   "source": [
    "feature_explore (my_dataset,'shared_receipt_with_poi','')"
   ]
  },
  {
   "cell_type": "markdown",
   "metadata": {},
   "source": [
    "In the frame of our POI identifier algorithm, there is no need to use the 'email_address' feature.\n",
    "\n",
    "At first sight, the 'shared_receipt_with_poi' email feature looks promising. \n",
    "\n",
    "On the other hand, the 'from_this_person_to_poi' and 'from_poi_to_this_person' features might not be so expressive if we don't 'normalize' them by the total 'from_message' and 'to_message' respectively. Indeed, if we make the assumption that the fraud system was established by a limited number of people who know each others, then it is not the absolute number of mails send to or received from a POI that matters, but the ration to the total mailbox. If A and B send 30% and 5% of their emails to C respectively, then C is likely to be closer to A than B. Later on, we will check this intuition by using the original poi email features, then replacing them by the 'relative' poi email features, and comparing the erformance of teh POI identifier algorithm.\n"
   ]
  },
  {
   "cell_type": "markdown",
   "metadata": {},
   "source": [
    "## Step 2: Feature selecion and engineering\n",
    "\n",
    "### Create relative POI email features\n",
    "As explained above, we use the piece of code below to compute, for each person of the dataset:\n",
    "- the ratio of emails sent to a POI over total number of sent emails\n",
    "- the ratio of emails received from a POI over the total number of received emails"
   ]
  },
  {
   "cell_type": "code",
   "execution_count": 37,
   "metadata": {
    "collapsed": true
   },
   "outputs": [],
   "source": [
    "for k in my_dataset.keys():\n",
    "    if my_dataset[k]['from_poi_to_this_person'] != 'NaN' and my_dataset[k]['to_messages'] != 'NaN':\n",
    "        my_dataset[k]['relative_from_poi_to_this_person'] = \\\n",
    "        float(my_dataset[k]['from_poi_to_this_person'])/float(my_dataset[k]['to_messages'])\n",
    "    else: \n",
    "        my_dataset[k]['relative_from_poi_to_this_person'] = 'NaN'\n",
    "        \n",
    "    if my_dataset[k]['from_this_person_to_poi'] != 'NaN' and my_dataset[k]['from_messages'] != 'NaN':\n",
    "        my_dataset[k]['relative_from_this_person_to_poi'] = \\\n",
    "        float(my_dataset[k]['from_this_person_to_poi'])/float(my_dataset[k]['from_messages'])\n",
    "    else:\n",
    "        my_dataset[k]['relative_from_this_person_to_poi'] = 'NaN'"
   ]
  },
  {
   "cell_type": "markdown",
   "metadata": {},
   "source": [
    "Now let's have a look at these new features by making a scatter plot:"
   ]
  },
  {
   "cell_type": "code",
   "execution_count": 38,
   "metadata": {
    "collapsed": true
   },
   "outputs": [],
   "source": [
    "# Create matrix X with the 2 'relative' POI email features, and vector y of labels\n",
    "X = []\n",
    "y = []\n",
    "\n",
    "for k in my_dataset.keys():\n",
    "    if my_dataset[k]['relative_from_poi_to_this_person'] != 'NaN' and \\\n",
    "    my_dataset[k]['relative_from_this_person_to_poi'] != 'NaN':\n",
    "        X.append([my_dataset[k]['relative_from_poi_to_this_person'],my_dataset[k]['relative_from_this_person_to_poi']])\n",
    "        if my_dataset[k]['poi']:\n",
    "            y.append(1)\n",
    "        else:\n",
    "            y.append(0)\n",
    "\n",
    "X = np.array(X)\n",
    "y = np.array(y)"
   ]
  },
  {
   "cell_type": "markdown",
   "metadata": {},
   "source": [
    "We then use the short scatter plot function below:"
   ]
  },
  {
   "cell_type": "code",
   "execution_count": 39,
   "metadata": {
    "collapsed": true
   },
   "outputs": [],
   "source": [
    "def plot2Dscatter(X,y,features,labels):\n",
    "    plt.scatter(X[y == labels[0],0], X[y == labels[0],1], color = 'b', label=str(labels[0]))\n",
    "    plt.scatter(X[y == labels[1],0], X[y == labels[1],1], color = 'r', label=str(labels[1]))\n",
    "    plt.legend()\n",
    "    plt.xlabel(features[0])\n",
    "    plt.ylabel(features[1])"
   ]
  },
  {
   "cell_type": "code",
   "execution_count": 40,
   "metadata": {},
   "outputs": [
    {
     "data": {
      "image/png": "[encoded data removed]",
      "text/plain": [
       "<matplotlib.figure.Figure at 0xcf06b70>"
      ]
     },
     "metadata": {},
     "output_type": "display_data"
    }
   ],
   "source": [
    "features = ['relative_from_poi_to_this_person','relative_from_this_person_to_poi']\n",
    "labels = [1,0]\n",
    "plot2Dscatter(X,y,features,labels)"
   ]
  },
  {
   "cell_type": "markdown",
   "metadata": {},
   "source": [
    "Quite interestingly all the POIs have a ration of emails sent to other POI equal or above about 0.2, that is they all sent 1 email in 5 to another POI."
   ]
  },
  {
   "cell_type": "markdown",
   "metadata": {},
   "source": [
    "### Rescaling or not rescaling..."
   ]
  },
  {
   "cell_type": "markdown",
   "metadata": {},
   "source": [
    "In the investigation, we want to try different kinds of algorithms for our classifier. Some of them, like SVM or k-means clustering, would behave differently whether applied to scaled or unscaled features. In our case, we decided, as explained above, not to remove the outliers in the financial features. Because of this choice, min/max scaling would not be a good approach for scaling the data. \n",
    "\n",
    "We decide to **start by using the unscaled features**. If we cannot manage to get the desired performance for our classifier, we will go back to this step and see which scaling method could be used."
   ]
  },
  {
   "cell_type": "markdown",
   "metadata": {},
   "source": [
    "### Feature selection\n",
    "\n",
    "As dicussed in the previous sections, we will test 3 sets of features:\n",
    "- the lists 1 and 3 differ by the used financial features ('total' vs. 'handpicked' features)\n",
    "- the lists 2 and 3 differ by the used email features ('absolute' vs. 'relative' POI mail features')\n",
    "\n",
    "We will also create, as a reference list of features, a list of 5 features among the original features, selected using SelectKBest class."
   ]
  },
  {
   "cell_type": "code",
   "execution_count": 41,
   "metadata": {
    "collapsed": true
   },
   "outputs": [],
   "source": [
    "### The first feature must be \"poi\".\n",
    "# List 1: 5 features\n",
    "features_list1 = ['poi','total_payments','total_stock_value','shared_receipt_with_poi',\\\n",
    "                  'relative_from_poi_to_this_person','relative_from_this_person_to_poi'] \n",
    "# List 2: 8 features\n",
    "features_list2 = ['poi','bonus','exercised_stock_options','long_term_incentive','restricted_stock','salary',\\\n",
    "                  'shared_receipt_with_poi','from_poi_to_this_person','from_this_person_to_poi']\n",
    "# List 3: 8 features as well\n",
    "features_list3 = ['poi','bonus','exercised_stock_options','long_term_incentive','restricted_stock','salary',\\\n",
    "                  'shared_receipt_with_poi','relative_from_poi_to_this_person','relative_from_this_person_to_poi'] \n",
    "\n",
    "\n",
    "### Extract features and labels from dataset for local testing\n",
    "data1 = featureFormat(my_dataset, features_list1, sort_keys = True)\n",
    "labels1, features1 = targetFeatureSplit(data1)\n",
    "\n",
    "data2 = featureFormat(my_dataset, features_list2, sort_keys = True)\n",
    "labels2, features2 = targetFeatureSplit(data2)\n",
    "\n",
    "data3 = featureFormat(my_dataset, features_list3, sort_keys = True)\n",
    "labels3, features3 = targetFeatureSplit(data3)"
   ]
  },
  {
   "cell_type": "code",
   "execution_count": 42,
   "metadata": {
    "collapsed": true
   },
   "outputs": [],
   "source": [
    "# List 4: 'best' 5 features, in teh sense of higher f-score\n",
    "# Select all features except email_address\n",
    "features_list4 = ['poi','bonus','deferral_payments','director_fees','exercised_stock_options','expenses',\\\n",
    "                  'from_messages','from_poi_to_this_person','from_this_person_to_poi','loan_advances',\\\n",
    "                  'long_term_incentive','other','restricted_stock','restricted_stock_deferred','salary',\\\n",
    "                  'shared_receipt_with_poi','to_messages','total_payments','total_stock_value'] \n",
    "# Extract features and labels from dataset\n",
    "data4 = featureFormat(my_dataset, features_list4, sort_keys = True)\n",
    "labels4, features4 = targetFeatureSplit(data4)\n",
    "# Use SelectKBest to select the features having the 5 highest f-score\n",
    "from sklearn.feature_selection import SelectKBest\n",
    "Kbest_selector = SelectKBest(k=5)\n",
    "features4_new = Kbest_selector.fit_transform(features4, labels4)"
   ]
  },
  {
   "cell_type": "markdown",
   "metadata": {},
   "source": [
    "Let's see which features have been selected. We compare feature4_new and feature4 for the first sample:"
   ]
  },
  {
   "cell_type": "code",
   "execution_count": 43,
   "metadata": {},
   "outputs": [
    {
     "name": "stdout",
     "output_type": "stream",
     "text": [
      "[ 4175000.  1729541.   304805.   201955.  1729541.]\n",
      "[  4.17500000e+06   2.86971700e+06   0.00000000e+00   1.72954100e+06\n",
      "   1.38680000e+04   2.19500000e+03   4.70000000e+01   6.50000000e+01\n",
      "   0.00000000e+00   3.04805000e+05   1.52000000e+02   1.26027000e+05\n",
      "  -1.26027000e+05   2.01955000e+05   1.40700000e+03   2.90200000e+03\n",
      "   4.48444200e+06   1.72954100e+06]\n"
     ]
    }
   ],
   "source": [
    "print(features4_new[0])\n",
    "print(features4[0])"
   ]
  },
  {
   "cell_type": "markdown",
   "metadata": {},
   "source": [
    "We see that the features index 0 ('bonus'), 3 ('exercised_stock_options'), 9 ('long_term_incentive'), 13 ('salary') and 17 ('total_stock_value') have been selected. Note that there is no email features in this selection. Let's have a look at the f-score for these features: "
   ]
  },
  {
   "cell_type": "code",
   "execution_count": 44,
   "metadata": {},
   "outputs": [
    {
     "data": {
      "text/plain": [
       "array([ 21.06000171,   0.21705893,   2.10765594,  25.09754153,\n",
       "         6.23420114,   0.1641645 ,   5.34494152,   2.42650813,\n",
       "         7.2427304 ,  10.07245453,   4.20497086,   9.34670079,\n",
       "         0.06498431,  18.57570327,   8.74648553,   1.69882435,\n",
       "         8.86672154,  24.46765405])"
      ]
     },
     "execution_count": 44,
     "metadata": {},
     "output_type": "execute_result"
    }
   ],
   "source": [
    "Kbest_selector.scores_"
   ]
  },
  {
   "cell_type": "markdown",
   "metadata": {},
   "source": [
    "The selected features have a f-score between 10 and 25."
   ]
  },
  {
   "cell_type": "markdown",
   "metadata": {},
   "source": [
    "These lists do not contain a very high number of features, and therefore we do not see the need, as a first approach, to use a dimensionality reduction technique like PCA. If the performance of the classifier is below expectetation we will go back to this step and try to use a PCA on a the list number 3."
   ]
  },
  {
   "cell_type": "markdown",
   "metadata": {},
   "source": [
    "Now we want to use a standard Naive Bayes classifier to have an idea of the difference of performance between the 4 features lists. We write a simple function to do that:"
   ]
  },
  {
   "cell_type": "code",
   "execution_count": 45,
   "metadata": {
    "collapsed": true
   },
   "outputs": [],
   "source": [
    "def NB_clf_classif_report(features, labels):\n",
    "    '''Function that takes a dataset (features and labels) as input, splits it into training and test subsets\n",
    "    (in stratified manner because we are dealing with imbalanced classes), creates a standard Naive Bayes classifier,\n",
    "    fits it to the training data, and then displays the classification report using the test data.'''\n",
    "    \n",
    "    # split features and labels into training and testing sets\n",
    "    from sklearn.model_selection import train_test_split\n",
    "    features_train, features_test, labels_train, labels_test = \\\n",
    "    train_test_split(features, labels, test_size=0.5, random_state=42, stratify=labels)\n",
    "    \n",
    "    # import NB classifier from sk learn library\n",
    "    from sklearn.naive_bayes import GaussianNB\n",
    "    # create classifier\n",
    "    clf = GaussianNB()\n",
    "    \n",
    "    # fit classifier using training dataset\n",
    "    clf = clf.fit(features_train, labels_train)\n",
    "    \n",
    "    # compute recall, precision and f1-score, then display them\n",
    "    from sklearn.metrics import classification_report\n",
    "    labels_pred = clf.predict(features_test)\n",
    "    print(classification_report(labels_test, labels_pred))# compute accuracy score"
   ]
  },
  {
   "cell_type": "code",
   "execution_count": 46,
   "metadata": {},
   "outputs": [
    {
     "name": "stdout",
     "output_type": "stream",
     "text": [
      "Performance with feature list nb1: \n",
      "             precision    recall  f1-score   support\n",
      "\n",
      "        0.0       0.87      0.97      0.92        63\n",
      "        1.0       0.00      0.00      0.00         9\n",
      "\n",
      "avg / total       0.76      0.85      0.80        72\n",
      "\n",
      "\n",
      "Performance with feature list nb2: \n",
      "             precision    recall  f1-score   support\n",
      "\n",
      "        0.0       0.89      0.93      0.91        58\n",
      "        1.0       0.33      0.22      0.27         9\n",
      "\n",
      "avg / total       0.81      0.84      0.82        67\n",
      "\n",
      "\n",
      "Performance with feature list nb3: \n",
      "             precision    recall  f1-score   support\n",
      "\n",
      "        0.0       0.89      0.95      0.92        58\n",
      "        1.0       0.40      0.22      0.29         9\n",
      "\n",
      "avg / total       0.82      0.85      0.83        67\n",
      "\n",
      "\n",
      "Performance with feature list nb4: \n",
      "             precision    recall  f1-score   support\n",
      "\n",
      "        0.0       0.87      0.97      0.92        63\n",
      "        1.0       0.00      0.00      0.00         9\n",
      "\n",
      "avg / total       0.76      0.85      0.80        72\n",
      "\n"
     ]
    }
   ],
   "source": [
    "print('Performance with feature list nb1: ')\n",
    "NB_clf_classif_report(features1, labels1)\n",
    "print('')\n",
    "print('Performance with feature list nb2: ')\n",
    "NB_clf_classif_report(features2, labels2)\n",
    "print('')\n",
    "print('Performance with feature list nb3: ')\n",
    "NB_clf_classif_report(features3, labels3)\n",
    "print('')\n",
    "print('Performance with feature list nb4: ')\n",
    "NB_clf_classif_report(features4_new, labels4)"
   ]
  },
  {
   "cell_type": "markdown",
   "metadata": {},
   "source": [
    "When interpreting these results, we are mainly focusing in the recall and also precision for the POI class. Indeed, we are in a case of very imbalanced classification, so we want to ensure that our algorithm will be able to spot the rare positive samples in the dataset (i.e \"high\" recall). Given the context of this analysis, we want to give the priority at the recall over the precision. Indeed, the algorithm could be used as a first filter to detect people for which further investigation may lead to findings. The precision may not be very high, but at least we will minimize the missing of true POIs. \n",
    "\n",
    "Going back to the results, we see that the third list of features, containing the five financial features that seemed particularly relevant following our manual exploration of the dataset, the shared receipt email feature and also the two created email features. From now on, we use this list of features.  "
   ]
  },
  {
   "cell_type": "code",
   "execution_count": 47,
   "metadata": {},
   "outputs": [
    {
     "name": "stdout",
     "output_type": "stream",
     "text": [
      "Using this list of 8 features, the dataset contains 133 samples among which there are 18.0 POIs.\n",
      "The POI class represents only 13.5% of the dataset.\n"
     ]
    }
   ],
   "source": [
    "print('Using this list of 8 features, the dataset contains {} samples among which there are {} POIs.'.\\\n",
    "     format(len(features3),sum(labels3)))\n",
    "print('The POI class represents only {:.1%} of the dataset.'.format(sum(labels3)/len(features3)))"
   ]
  },
  {
   "cell_type": "markdown",
   "metadata": {},
   "source": [
    "## Step 3: Algorithm choice and tuning\n",
    "\n",
    "Here we will test 4 classifiers: Naive Bayes (NB), Support Vector Machine (SVM), k-nearest neighbors (kNN) and Decision Tree (DT). In the case of SVM, kNN and DT, we will perform a grid search to find the best parameters for these classifiers. \n",
    "\n",
    "To assess the performance of the classifier pending on its parameters, we will look at three metrics: recall score, precision score, and f1-score."
   ]
  },
  {
   "cell_type": "code",
   "execution_count": 48,
   "metadata": {
    "collapsed": true
   },
   "outputs": [],
   "source": [
    "# split features and labels into training (50%) and testing (50%) sets, \n",
    "# in stratified manner because we are dealing with imbalanced classes\n",
    "from sklearn.model_selection import train_test_split\n",
    "features_train, features_test, labels_train, labels_test = \\\n",
    "    train_test_split(features3, labels3, test_size=0.5, random_state=42, stratify=labels3)"
   ]
  },
  {
   "cell_type": "markdown",
   "metadata": {},
   "source": [
    "### Naive Bayes\n",
    "\n",
    "We do not perform any specific tuning of the parameters here."
   ]
  },
  {
   "cell_type": "code",
   "execution_count": 49,
   "metadata": {},
   "outputs": [
    {
     "name": "stdout",
     "output_type": "stream",
     "text": [
      "             precision    recall  f1-score   support\n",
      "\n",
      "        0.0       0.89      0.95      0.92        58\n",
      "        1.0       0.40      0.22      0.29         9\n",
      "\n",
      "avg / total       0.82      0.85      0.83        67\n",
      "\n"
     ]
    }
   ],
   "source": [
    "# import NB classifier from sk learn library\n",
    "from sklearn.naive_bayes import GaussianNB\n",
    "# create classifier\n",
    "clf = GaussianNB()\n",
    "    \n",
    "# fit classifier using training dataset\n",
    "clf = clf.fit(features_train, labels_train)\n",
    "    \n",
    "# compute recall, precision and f1-score, then display them\n",
    "from sklearn.metrics import classification_report\n",
    "labels_pred = clf.predict(features_test)\n",
    "print(classification_report(labels_test, labels_pred))"
   ]
  },
  {
   "cell_type": "markdown",
   "metadata": {},
   "source": [
    "The recall of POIs is below target (0.3)."
   ]
  },
  {
   "cell_type": "markdown",
   "metadata": {},
   "source": [
    "### SVM\n",
    "\n",
    "In this case we perform a grid search, trying:\n",
    "- two different kernel types: rbf and sigmoid. Based on the visualization we did before, we think it would be difficult for a linear kernel to be able to separate well between POIs and non-POIs.\n",
    "- three different values for the gamma kernel coefficient: 1, 0.1 and 0.01\n",
    "- four different values for the penalty parameter C: 10, 100, 1000 and 10000"
   ]
  },
  {
   "cell_type": "code",
   "execution_count": 50,
   "metadata": {
    "collapsed": true
   },
   "outputs": [],
   "source": [
    "# Dictionary of the parameters, and the possible values they may take. \n",
    "# Based on the visualization we did before, we think it difficult for a linear kernel to \n",
    "# be able to separate well between POIs and non-POIs. We therefore limit our grid to a rbf kernel.\n",
    "# We try 3 diferent C (possible choices are 10, 100 and 1000), and \n",
    "# 2 different values for gamma (0.1 and 0.01)\n",
    "parameters = {'kernel':['rbf','sigmoid'], 'gamma': [1, 0.1, 0.01], 'C': [10, 100, 1000, 10000]}"
   ]
  },
  {
   "cell_type": "code",
   "execution_count": 51,
   "metadata": {
    "collapsed": true
   },
   "outputs": [],
   "source": [
    "# We first create only the 'algorithm object, that is, the classifier and the possible sets of parameters\n",
    "# we set the class_weight parameters to 'balanced' to give more weight to the unfrequent class (POIs)\n",
    "from sklearn.svm import SVC\n",
    "svc = SVC(class_weight = 'balanced')"
   ]
  },
  {
   "cell_type": "code",
   "execution_count": 52,
   "metadata": {
    "collapsed": true
   },
   "outputs": [],
   "source": [
    "# We pass the algorithm (svc) and the dictionary of parameters to try (parameters) and \n",
    "# it generates a grid of parameter combinations to try.\n",
    "from sklearn.model_selection import GridSearchCV\n",
    "clf = GridSearchCV(svc, parameters, scoring = 'recall')"
   ]
  },
  {
   "cell_type": "code",
   "execution_count": 53,
   "metadata": {},
   "outputs": [
    {
     "data": {
      "text/plain": [
       "GridSearchCV(cv=None, error_score='raise',\n",
       "       estimator=SVC(C=1.0, cache_size=200, class_weight='balanced', coef0=0.0,\n",
       "  decision_function_shape=None, degree=3, gamma='auto', kernel='rbf',\n",
       "  max_iter=-1, probability=False, random_state=None, shrinking=True,\n",
       "  tol=0.001, verbose=False),\n",
       "       fit_params={}, iid=True, n_jobs=1,\n",
       "       param_grid={'kernel': ['rbf', 'sigmoid'], 'gamma': [1, 0.1, 0.01], 'C': [10, 100, 1000, 10000]},\n",
       "       pre_dispatch='2*n_jobs', refit=True, return_train_score=True,\n",
       "       scoring='recall', verbose=0)"
      ]
     },
     "execution_count": 53,
     "metadata": {},
     "output_type": "execute_result"
    }
   ],
   "source": [
    "# The fit function now tries all the parameter combinations, \n",
    "# and returns a fitted classifier that's automatically tuned to the optimal parameter combination.\n",
    "clf.fit(features_train,labels_train)"
   ]
  },
  {
   "cell_type": "markdown",
   "metadata": {},
   "source": [
    "Now, for the display of the grid search results, we define the function below:"
   ]
  },
  {
   "cell_type": "code",
   "execution_count": 54,
   "metadata": {
    "collapsed": true
   },
   "outputs": [],
   "source": [
    "def grid_results_display(clf, features_test, labels_test):\n",
    "    '''Function that takes a gridsearch fitted classifier, the test features and labels as input, \n",
    "    and displays the best combination of parameters, the grid scores for the different combinations of the grid\n",
    "    and finally the classification report for the best combination (using the test data).\n",
    "    # For this function, we re-used and adapted an example found in the sklearn documentation (ref in references.txt)'''\n",
    "\n",
    "    print('Best parameters set found on training set:')\n",
    "    print()\n",
    "    print(clf.best_params_)\n",
    "    print()\n",
    "    print('Grid scores on training set:')\n",
    "    print()\n",
    "    means = clf.cv_results_['mean_test_score']\n",
    "    stds = clf.cv_results_['std_test_score']\n",
    "    for mean, std, params in zip(means, stds, clf.cv_results_['params']):\n",
    "        print('{:.3f} (+/-{:.03f}) for {}'.format(mean, std * 2, params))\n",
    "    print()\n",
    "    print('Detailed classification report:')\n",
    "    print()\n",
    "    print('The model is trained on the full training set.')\n",
    "    print('The scores are computed on the full test set.')\n",
    "    print()\n",
    "    labels_pred = clf.predict(features_test)\n",
    "    print(classification_report(labels_test, labels_pred))\n",
    "    print()"
   ]
  },
  {
   "cell_type": "code",
   "execution_count": 55,
   "metadata": {},
   "outputs": [
    {
     "name": "stdout",
     "output_type": "stream",
     "text": [
      "Best parameters set found on training set:\n",
      "\n",
      "{'C': 10, 'gamma': 1, 'kernel': 'sigmoid'}\n",
      "\n",
      "Grid scores on training set:\n",
      "\n",
      "0.000 (+/-0.000) for {'C': 10, 'gamma': 1, 'kernel': 'rbf'}\n",
      "0.667 (+/-0.544) for {'C': 10, 'gamma': 1, 'kernel': 'sigmoid'}\n",
      "0.000 (+/-0.000) for {'C': 10, 'gamma': 0.1, 'kernel': 'rbf'}\n",
      "0.667 (+/-0.544) for {'C': 10, 'gamma': 0.1, 'kernel': 'sigmoid'}\n",
      "0.000 (+/-0.000) for {'C': 10, 'gamma': 0.01, 'kernel': 'rbf'}\n",
      "0.667 (+/-0.544) for {'C': 10, 'gamma': 0.01, 'kernel': 'sigmoid'}\n",
      "0.000 (+/-0.000) for {'C': 100, 'gamma': 1, 'kernel': 'rbf'}\n",
      "0.667 (+/-0.544) for {'C': 100, 'gamma': 1, 'kernel': 'sigmoid'}\n",
      "0.000 (+/-0.000) for {'C': 100, 'gamma': 0.1, 'kernel': 'rbf'}\n",
      "0.667 (+/-0.544) for {'C': 100, 'gamma': 0.1, 'kernel': 'sigmoid'}\n",
      "0.000 (+/-0.000) for {'C': 100, 'gamma': 0.01, 'kernel': 'rbf'}\n",
      "0.667 (+/-0.544) for {'C': 100, 'gamma': 0.01, 'kernel': 'sigmoid'}\n",
      "0.000 (+/-0.000) for {'C': 1000, 'gamma': 1, 'kernel': 'rbf'}\n",
      "0.667 (+/-0.544) for {'C': 1000, 'gamma': 1, 'kernel': 'sigmoid'}\n",
      "0.000 (+/-0.000) for {'C': 1000, 'gamma': 0.1, 'kernel': 'rbf'}\n",
      "0.667 (+/-0.544) for {'C': 1000, 'gamma': 0.1, 'kernel': 'sigmoid'}\n",
      "0.000 (+/-0.000) for {'C': 1000, 'gamma': 0.01, 'kernel': 'rbf'}\n",
      "0.667 (+/-0.544) for {'C': 1000, 'gamma': 0.01, 'kernel': 'sigmoid'}\n",
      "0.000 (+/-0.000) for {'C': 10000, 'gamma': 1, 'kernel': 'rbf'}\n",
      "0.667 (+/-0.544) for {'C': 10000, 'gamma': 1, 'kernel': 'sigmoid'}\n",
      "0.000 (+/-0.000) for {'C': 10000, 'gamma': 0.1, 'kernel': 'rbf'}\n",
      "0.667 (+/-0.544) for {'C': 10000, 'gamma': 0.1, 'kernel': 'sigmoid'}\n",
      "0.000 (+/-0.000) for {'C': 10000, 'gamma': 0.01, 'kernel': 'rbf'}\n",
      "0.667 (+/-0.544) for {'C': 10000, 'gamma': 0.01, 'kernel': 'sigmoid'}\n",
      "\n",
      "Detailed classification report:\n",
      "\n",
      "The model is trained on the full training set.\n",
      "The scores are computed on the full test set.\n",
      "\n",
      "             precision    recall  f1-score   support\n",
      "\n",
      "        0.0       0.75      0.05      0.10        58\n",
      "        1.0       0.13      0.89      0.22         9\n",
      "\n",
      "avg / total       0.67      0.16      0.11        67\n",
      "\n",
      "\n"
     ]
    }
   ],
   "source": [
    "grid_results_display(clf, features_test, labels_test)"
   ]
  },
  {
   "cell_type": "markdown",
   "metadata": {},
   "source": [
    "The only tested parameter that has an effect in our classification task seems to be the kernel: sigmoid kernel works better than rbf kernel. Nevertheless, the precision of POI detection is very low and below target (0.3).  "
   ]
  },
  {
   "cell_type": "markdown",
   "metadata": {},
   "source": [
    "### kNN\n",
    "\n",
    "In this case also we will perform a grid search, trying:\n",
    "- five different numbers of neighbors: 2, 3, 4, 5, 6 \n",
    "- three different algorithms: ‘ball_tree’, ‘kd_tree’, ‘brute’"
   ]
  },
  {
   "cell_type": "code",
   "execution_count": 56,
   "metadata": {
    "collapsed": true
   },
   "outputs": [],
   "source": [
    "# dictionary of parameters\n",
    "parameters = {'n_neighbors': [2, 3, 4, 5, 6], 'algorithm': ['ball_tree', 'kd_tree', 'brute']}"
   ]
  },
  {
   "cell_type": "code",
   "execution_count": 57,
   "metadata": {
    "collapsed": true
   },
   "outputs": [],
   "source": [
    "# create algorithm object\n",
    "from sklearn.neighbors import KNeighborsClassifier\n",
    "neigh = KNeighborsClassifier()"
   ]
  },
  {
   "cell_type": "code",
   "execution_count": 58,
   "metadata": {
    "collapsed": true
   },
   "outputs": [],
   "source": [
    "# create classifier from algorithm and dictionary of parameters using GridSearchCV\n",
    "clf = GridSearchCV(neigh, parameters, scoring = 'recall')"
   ]
  },
  {
   "cell_type": "code",
   "execution_count": 59,
   "metadata": {},
   "outputs": [
    {
     "data": {
      "text/plain": [
       "GridSearchCV(cv=None, error_score='raise',\n",
       "       estimator=KNeighborsClassifier(algorithm='auto', leaf_size=30, metric='minkowski',\n",
       "           metric_params=None, n_jobs=1, n_neighbors=5, p=2,\n",
       "           weights='uniform'),\n",
       "       fit_params={}, iid=True, n_jobs=1,\n",
       "       param_grid={'n_neighbors': [2, 3, 4, 5, 6], 'algorithm': ['ball_tree', 'kd_tree', 'brute']},\n",
       "       pre_dispatch='2*n_jobs', refit=True, return_train_score=True,\n",
       "       scoring='recall', verbose=0)"
      ]
     },
     "execution_count": 59,
     "metadata": {},
     "output_type": "execute_result"
    }
   ],
   "source": [
    "# Fit the classifier (tries all the parameter combinations)\n",
    "clf.fit(features_train,labels_train)"
   ]
  },
  {
   "cell_type": "code",
   "execution_count": 60,
   "metadata": {},
   "outputs": [
    {
     "name": "stdout",
     "output_type": "stream",
     "text": [
      "Best parameters set found on training set:\n",
      "\n",
      "{'algorithm': 'ball_tree', 'n_neighbors': 3}\n",
      "\n",
      "Grid scores on training set:\n",
      "\n",
      "0.000 (+/-0.000) for {'algorithm': 'ball_tree', 'n_neighbors': 2}\n",
      "0.111 (+/-0.314) for {'algorithm': 'ball_tree', 'n_neighbors': 3}\n",
      "0.000 (+/-0.000) for {'algorithm': 'ball_tree', 'n_neighbors': 4}\n",
      "0.000 (+/-0.000) for {'algorithm': 'ball_tree', 'n_neighbors': 5}\n",
      "0.000 (+/-0.000) for {'algorithm': 'ball_tree', 'n_neighbors': 6}\n",
      "0.000 (+/-0.000) for {'algorithm': 'kd_tree', 'n_neighbors': 2}\n",
      "0.111 (+/-0.314) for {'algorithm': 'kd_tree', 'n_neighbors': 3}\n",
      "0.000 (+/-0.000) for {'algorithm': 'kd_tree', 'n_neighbors': 4}\n",
      "0.000 (+/-0.000) for {'algorithm': 'kd_tree', 'n_neighbors': 5}\n",
      "0.000 (+/-0.000) for {'algorithm': 'kd_tree', 'n_neighbors': 6}\n",
      "0.000 (+/-0.000) for {'algorithm': 'brute', 'n_neighbors': 2}\n",
      "0.111 (+/-0.314) for {'algorithm': 'brute', 'n_neighbors': 3}\n",
      "0.000 (+/-0.000) for {'algorithm': 'brute', 'n_neighbors': 4}\n",
      "0.000 (+/-0.000) for {'algorithm': 'brute', 'n_neighbors': 5}\n",
      "0.000 (+/-0.000) for {'algorithm': 'brute', 'n_neighbors': 6}\n",
      "\n",
      "Detailed classification report:\n",
      "\n",
      "The model is trained on the full training set.\n",
      "The scores are computed on the full test set.\n",
      "\n",
      "             precision    recall  f1-score   support\n",
      "\n",
      "        0.0       0.90      0.93      0.92        58\n",
      "        1.0       0.43      0.33      0.38         9\n",
      "\n",
      "avg / total       0.84      0.85      0.84        67\n",
      "\n",
      "\n"
     ]
    }
   ],
   "source": [
    "grid_results_display(clf, features_test, labels_test)"
   ]
  },
  {
   "cell_type": "markdown",
   "metadata": {},
   "source": [
    "The kNN classifier works with reasonable recall and precision when tuned with a number of neighbors of 3, with no notable difference between the different algorithm we tested. "
   ]
  },
  {
   "cell_type": "markdown",
   "metadata": {
    "collapsed": true
   },
   "source": [
    "### Decision Tree\n",
    "\n",
    "In this case we also perform a grid search, trying:\n",
    "- two kinds of criterions: 'gini' and 'entropy'\n",
    "- four different max_depth parameters: 1, 2, 4 and 8\n",
    "- three different min_samples_split settings: 2, 4 and 8 "
   ]
  },
  {
   "cell_type": "code",
   "execution_count": 61,
   "metadata": {
    "collapsed": true
   },
   "outputs": [],
   "source": [
    "# dictionary of parameters\n",
    "parameters = {'criterion': ['gini','entropy'], 'max_depth': [1, 2, 4, 8], 'min_samples_split': [2, 4, 8]}"
   ]
  },
  {
   "cell_type": "code",
   "execution_count": 62,
   "metadata": {
    "collapsed": true
   },
   "outputs": [],
   "source": [
    "# create algorithm object\n",
    "# we set the class_weight parameters to 'balanced' to give more weight to the unfrequent class (POIs)\n",
    "from sklearn.tree import DecisionTreeClassifier\n",
    "dt = DecisionTreeClassifier(class_weight = 'balanced')"
   ]
  },
  {
   "cell_type": "code",
   "execution_count": 63,
   "metadata": {
    "collapsed": true
   },
   "outputs": [],
   "source": [
    "# create classifier from algorithm and dictionary of parameters using GridSearchCV\n",
    "clf = GridSearchCV(dt, parameters, scoring = 'recall')"
   ]
  },
  {
   "cell_type": "code",
   "execution_count": 64,
   "metadata": {},
   "outputs": [
    {
     "data": {
      "text/plain": [
       "GridSearchCV(cv=None, error_score='raise',\n",
       "       estimator=DecisionTreeClassifier(class_weight='balanced', criterion='gini',\n",
       "            max_depth=None, max_features=None, max_leaf_nodes=None,\n",
       "            min_impurity_split=1e-07, min_samples_leaf=1,\n",
       "            min_samples_split=2, min_weight_fraction_leaf=0.0,\n",
       "            presort=False, random_state=None, splitter='best'),\n",
       "       fit_params={}, iid=True, n_jobs=1,\n",
       "       param_grid={'criterion': ['gini', 'entropy'], 'max_depth': [1, 2, 4, 8], 'min_samples_split': [2, 4, 8]},\n",
       "       pre_dispatch='2*n_jobs', refit=True, return_train_score=True,\n",
       "       scoring='recall', verbose=0)"
      ]
     },
     "execution_count": 64,
     "metadata": {},
     "output_type": "execute_result"
    }
   ],
   "source": [
    "# Fit the classifier (tries all the parameter combinations)\n",
    "clf.fit(features_train,labels_train)"
   ]
  },
  {
   "cell_type": "code",
   "execution_count": 65,
   "metadata": {},
   "outputs": [
    {
     "name": "stdout",
     "output_type": "stream",
     "text": [
      "Best parameters set found on training set:\n",
      "\n",
      "{'criterion': 'gini', 'max_depth': 1, 'min_samples_split': 2}\n",
      "\n",
      "Grid scores on training set:\n",
      "\n",
      "0.667 (+/-0.544) for {'criterion': 'gini', 'max_depth': 1, 'min_samples_split': 2}\n",
      "0.667 (+/-0.544) for {'criterion': 'gini', 'max_depth': 1, 'min_samples_split': 4}\n",
      "0.667 (+/-0.544) for {'criterion': 'gini', 'max_depth': 1, 'min_samples_split': 8}\n",
      "0.444 (+/-0.314) for {'criterion': 'gini', 'max_depth': 2, 'min_samples_split': 2}\n",
      "0.444 (+/-0.314) for {'criterion': 'gini', 'max_depth': 2, 'min_samples_split': 4}\n",
      "0.444 (+/-0.314) for {'criterion': 'gini', 'max_depth': 2, 'min_samples_split': 8}\n",
      "0.444 (+/-0.314) for {'criterion': 'gini', 'max_depth': 4, 'min_samples_split': 2}\n",
      "0.444 (+/-0.314) for {'criterion': 'gini', 'max_depth': 4, 'min_samples_split': 4}\n",
      "0.444 (+/-0.314) for {'criterion': 'gini', 'max_depth': 4, 'min_samples_split': 8}\n",
      "0.444 (+/-0.314) for {'criterion': 'gini', 'max_depth': 8, 'min_samples_split': 2}\n",
      "0.444 (+/-0.314) for {'criterion': 'gini', 'max_depth': 8, 'min_samples_split': 4}\n",
      "0.444 (+/-0.314) for {'criterion': 'gini', 'max_depth': 8, 'min_samples_split': 8}\n",
      "0.667 (+/-0.544) for {'criterion': 'entropy', 'max_depth': 1, 'min_samples_split': 2}\n",
      "0.667 (+/-0.544) for {'criterion': 'entropy', 'max_depth': 1, 'min_samples_split': 4}\n",
      "0.667 (+/-0.544) for {'criterion': 'entropy', 'max_depth': 1, 'min_samples_split': 8}\n",
      "0.667 (+/-0.544) for {'criterion': 'entropy', 'max_depth': 2, 'min_samples_split': 2}\n",
      "0.667 (+/-0.544) for {'criterion': 'entropy', 'max_depth': 2, 'min_samples_split': 4}\n",
      "0.667 (+/-0.544) for {'criterion': 'entropy', 'max_depth': 2, 'min_samples_split': 8}\n",
      "0.444 (+/-0.314) for {'criterion': 'entropy', 'max_depth': 4, 'min_samples_split': 2}\n",
      "0.333 (+/-0.544) for {'criterion': 'entropy', 'max_depth': 4, 'min_samples_split': 4}\n",
      "0.667 (+/-0.544) for {'criterion': 'entropy', 'max_depth': 4, 'min_samples_split': 8}\n",
      "0.333 (+/-0.544) for {'criterion': 'entropy', 'max_depth': 8, 'min_samples_split': 2}\n",
      "0.333 (+/-0.544) for {'criterion': 'entropy', 'max_depth': 8, 'min_samples_split': 4}\n",
      "0.667 (+/-0.544) for {'criterion': 'entropy', 'max_depth': 8, 'min_samples_split': 8}\n",
      "\n",
      "Detailed classification report:\n",
      "\n",
      "The model is trained on the full training set.\n",
      "The scores are computed on the full test set.\n",
      "\n",
      "             precision    recall  f1-score   support\n",
      "\n",
      "        0.0       0.94      0.81      0.87        58\n",
      "        1.0       0.35      0.67      0.46         9\n",
      "\n",
      "avg / total       0.86      0.79      0.82        67\n",
      "\n",
      "\n"
     ]
    }
   ],
   "source": [
    "grid_results_display(clf, features_test, labels_test)"
   ]
  },
  {
   "cell_type": "markdown",
   "metadata": {},
   "source": [
    "We achieve the best performance so far with a decision tree classifier with a maximum_depth parameter of 1. With such value for maximum_depth, the type of criterion (gini or entropy) and the min_samples_split parameters seem to have little effect. "
   ]
  },
  {
   "cell_type": "markdown",
   "metadata": {},
   "source": [
    "We propose to submit this algorithm (Decision Tree classifier, {'criterion': 'gini', 'max_depth': 1, 'min_samples_split': 2}) for test using the tester code. Note that we also set the class_weight setting to 'balanced' because we want to give more weight to the POIs samples (see sklearn DT classifier documentation)."
   ]
  },
  {
   "cell_type": "code",
   "execution_count": 68,
   "metadata": {
    "collapsed": true
   },
   "outputs": [],
   "source": [
    "clf = DecisionTreeClassifier(criterion='gini', max_depth=1, min_samples_split=2, class_weight='balanced')"
   ]
  },
  {
   "cell_type": "markdown",
   "metadata": {},
   "source": [
    "## Step4: validation and evaluation\n",
    "\n",
    "We start by dumping the classifier, the selected features and corresponding data:"
   ]
  },
  {
   "cell_type": "code",
   "execution_count": 69,
   "metadata": {
    "collapsed": true
   },
   "outputs": [],
   "source": [
    "dump_classifier_and_data(clf, my_dataset, features_list3)"
   ]
  },
  {
   "cell_type": "markdown",
   "metadata": {},
   "source": [
    "Now we use the tester.py (modified so that to work with model_selection.StratifiedShuffleSplit instead of the previous version cross_validation.StratifiedShuffleSplit). As stated in the starter code, \"because of the small size of the dataset, the script uses stratified shuffle split cross validation."
   ]
  },
  {
   "cell_type": "code",
   "execution_count": 70,
   "metadata": {},
   "outputs": [
    {
     "name": "stdout",
     "output_type": "stream",
     "text": [
      "DecisionTreeClassifier(class_weight='balanced', criterion='gini', max_depth=1,\n",
      "            max_features=None, max_leaf_nodes=None,\n",
      "            min_impurity_split=1e-07, min_samples_leaf=1,\n",
      "            min_samples_split=2, min_weight_fraction_leaf=0.0,\n",
      "            presort=False, random_state=None, splitter='best')\n",
      "\tAccuracy: 0.76071\tPrecision: 0.32989\tRecall: 0.65450\tF1: 0.43867\tF2: 0.54688\n",
      "\tTotal predictions: 14000\tTrue positives: 1309\tFalse positives: 2659\tFalse negatives:  691\tTrue negatives: 9341\n",
      "\n"
     ]
    }
   ],
   "source": [
    "%run tester.py"
   ]
  },
  {
   "cell_type": "markdown",
   "metadata": {},
   "source": [
    "After this evaluation based on 1000 folds of the initial dataset, the proposed set of features together with the tuned classifier reach a recall of 0.6 and a precision slightly above 0.3."
   ]
  }
 ],
 "metadata": {
  "kernelspec": {
   "display_name": "Python 3",
   "language": "python",
   "name": "python3"
  },
  "language_info": {
   "codemirror_mode": {
    "name": "ipython",
    "version": 3
   },
   "file_extension": ".py",
   "mimetype": "text/x-python",
   "name": "python",
   "nbconvert_exporter": "python",
   "pygments_lexer": "ipython3",
   "version": "3.6.1"
  }
 },
 "nbformat": 4,
 "nbformat_minor": 2
}
